{
 "cells": [
  {
   "attachments": {},
   "cell_type": "markdown",
   "metadata": {},
   "source": [
    "Stock price prediction using LSTM"
   ]
  },
  {
   "cell_type": "code",
   "execution_count": 1,
   "metadata": {},
   "outputs": [],
   "source": [
    "#Import the Libraries\n",
    "import numpy as np\n",
    "import pandas as pd\n",
    "import matplotlib.pyplot as plt"
   ]
  },
  {
   "cell_type": "code",
   "execution_count": 12,
   "metadata": {},
   "outputs": [
    {
     "data": {
      "text/html": [
       "<div>\n",
       "<style scoped>\n",
       "    .dataframe tbody tr th:only-of-type {\n",
       "        vertical-align: middle;\n",
       "    }\n",
       "\n",
       "    .dataframe tbody tr th {\n",
       "        vertical-align: top;\n",
       "    }\n",
       "\n",
       "    .dataframe thead th {\n",
       "        text-align: right;\n",
       "    }\n",
       "</style>\n",
       "<table border=\"1\" class=\"dataframe\">\n",
       "  <thead>\n",
       "    <tr style=\"text-align: right;\">\n",
       "      <th></th>\n",
       "      <th>Date</th>\n",
       "      <th>Open</th>\n",
       "      <th>High</th>\n",
       "      <th>Low</th>\n",
       "      <th>Close</th>\n",
       "      <th>Adj Close</th>\n",
       "      <th>Volume</th>\n",
       "    </tr>\n",
       "  </thead>\n",
       "  <tbody>\n",
       "    <tr>\n",
       "      <th>0</th>\n",
       "      <td>2012-01-03</td>\n",
       "      <td>53.450001</td>\n",
       "      <td>56.799999</td>\n",
       "      <td>52.500000</td>\n",
       "      <td>55.349998</td>\n",
       "      <td>46.208496</td>\n",
       "      <td>156211.0</td>\n",
       "    </tr>\n",
       "    <tr>\n",
       "      <th>1</th>\n",
       "      <td>2012-01-04</td>\n",
       "      <td>55.599998</td>\n",
       "      <td>64.400002</td>\n",
       "      <td>54.799999</td>\n",
       "      <td>62.849998</td>\n",
       "      <td>52.469810</td>\n",
       "      <td>706876.0</td>\n",
       "    </tr>\n",
       "    <tr>\n",
       "      <th>2</th>\n",
       "      <td>2012-01-05</td>\n",
       "      <td>63.000000</td>\n",
       "      <td>66.500000</td>\n",
       "      <td>62.849998</td>\n",
       "      <td>65.800003</td>\n",
       "      <td>54.932598</td>\n",
       "      <td>616330.0</td>\n",
       "    </tr>\n",
       "    <tr>\n",
       "      <th>3</th>\n",
       "      <td>2012-01-06</td>\n",
       "      <td>65.400002</td>\n",
       "      <td>69.199997</td>\n",
       "      <td>64.800003</td>\n",
       "      <td>67.599998</td>\n",
       "      <td>56.435307</td>\n",
       "      <td>599300.0</td>\n",
       "    </tr>\n",
       "    <tr>\n",
       "      <th>5</th>\n",
       "      <td>2012-01-09</td>\n",
       "      <td>82.500000</td>\n",
       "      <td>87.050003</td>\n",
       "      <td>79.599998</td>\n",
       "      <td>82.800003</td>\n",
       "      <td>69.124908</td>\n",
       "      <td>1955697.0</td>\n",
       "    </tr>\n",
       "  </tbody>\n",
       "</table>\n",
       "</div>"
      ],
      "text/plain": [
       "         Date       Open       High        Low      Close  Adj Close  \\\n",
       "0  2012-01-03  53.450001  56.799999  52.500000  55.349998  46.208496   \n",
       "1  2012-01-04  55.599998  64.400002  54.799999  62.849998  52.469810   \n",
       "2  2012-01-05  63.000000  66.500000  62.849998  65.800003  54.932598   \n",
       "3  2012-01-06  65.400002  69.199997  64.800003  67.599998  56.435307   \n",
       "5  2012-01-09  82.500000  87.050003  79.599998  82.800003  69.124908   \n",
       "\n",
       "      Volume  \n",
       "0   156211.0  \n",
       "1   706876.0  \n",
       "2   616330.0  \n",
       "3   599300.0  \n",
       "5  1955697.0  "
      ]
     },
     "execution_count": 12,
     "metadata": {},
     "output_type": "execute_result"
    }
   ],
   "source": [
    "#Load the Training Dataset.=\n",
    "dataset_train = pd.read_csv(\"NFL.NS.csv\")\n",
    "dataset_train = dataset_train.dropna()\n",
    "dataset_train.head()"
   ]
  },
  {
   "cell_type": "code",
   "execution_count": 13,
   "metadata": {},
   "outputs": [
    {
     "data": {
      "text/html": [
       "<div>\n",
       "<style scoped>\n",
       "    .dataframe tbody tr th:only-of-type {\n",
       "        vertical-align: middle;\n",
       "    }\n",
       "\n",
       "    .dataframe tbody tr th {\n",
       "        vertical-align: top;\n",
       "    }\n",
       "\n",
       "    .dataframe thead th {\n",
       "        text-align: right;\n",
       "    }\n",
       "</style>\n",
       "<table border=\"1\" class=\"dataframe\">\n",
       "  <thead>\n",
       "    <tr style=\"text-align: right;\">\n",
       "      <th></th>\n",
       "      <th>Date</th>\n",
       "      <th>Open</th>\n",
       "      <th>High</th>\n",
       "      <th>Low</th>\n",
       "      <th>Close</th>\n",
       "      <th>Adj Close</th>\n",
       "      <th>Volume</th>\n",
       "    </tr>\n",
       "  </thead>\n",
       "  <tbody>\n",
       "    <tr>\n",
       "      <th>1228</th>\n",
       "      <td>2016-12-23</td>\n",
       "      <td>34.049999</td>\n",
       "      <td>35.099998</td>\n",
       "      <td>33.750000</td>\n",
       "      <td>34.700001</td>\n",
       "      <td>30.571991</td>\n",
       "      <td>206486.0</td>\n",
       "    </tr>\n",
       "    <tr>\n",
       "      <th>1229</th>\n",
       "      <td>2016-12-26</td>\n",
       "      <td>35.099998</td>\n",
       "      <td>35.349998</td>\n",
       "      <td>33.200001</td>\n",
       "      <td>33.400002</td>\n",
       "      <td>29.426645</td>\n",
       "      <td>432981.0</td>\n",
       "    </tr>\n",
       "    <tr>\n",
       "      <th>1230</th>\n",
       "      <td>2016-12-27</td>\n",
       "      <td>34.000000</td>\n",
       "      <td>34.200001</td>\n",
       "      <td>33.450001</td>\n",
       "      <td>33.950001</td>\n",
       "      <td>29.911213</td>\n",
       "      <td>215960.0</td>\n",
       "    </tr>\n",
       "    <tr>\n",
       "      <th>1231</th>\n",
       "      <td>2016-12-28</td>\n",
       "      <td>34.200001</td>\n",
       "      <td>34.450001</td>\n",
       "      <td>33.849998</td>\n",
       "      <td>33.950001</td>\n",
       "      <td>29.911213</td>\n",
       "      <td>98424.0</td>\n",
       "    </tr>\n",
       "    <tr>\n",
       "      <th>1232</th>\n",
       "      <td>2016-12-29</td>\n",
       "      <td>34.099998</td>\n",
       "      <td>35.900002</td>\n",
       "      <td>33.849998</td>\n",
       "      <td>35.250000</td>\n",
       "      <td>31.056562</td>\n",
       "      <td>507062.0</td>\n",
       "    </tr>\n",
       "  </tbody>\n",
       "</table>\n",
       "</div>"
      ],
      "text/plain": [
       "            Date       Open       High        Low      Close  Adj Close  \\\n",
       "1228  2016-12-23  34.049999  35.099998  33.750000  34.700001  30.571991   \n",
       "1229  2016-12-26  35.099998  35.349998  33.200001  33.400002  29.426645   \n",
       "1230  2016-12-27  34.000000  34.200001  33.450001  33.950001  29.911213   \n",
       "1231  2016-12-28  34.200001  34.450001  33.849998  33.950001  29.911213   \n",
       "1232  2016-12-29  34.099998  35.900002  33.849998  35.250000  31.056562   \n",
       "\n",
       "        Volume  \n",
       "1228  206486.0  \n",
       "1229  432981.0  \n",
       "1230  215960.0  \n",
       "1231   98424.0  \n",
       "1232  507062.0  "
      ]
     },
     "execution_count": 13,
     "metadata": {},
     "output_type": "execute_result"
    }
   ],
   "source": [
    "dataset_train.tail()"
   ]
  },
  {
   "cell_type": "code",
   "execution_count": 14,
   "metadata": {},
   "outputs": [
    {
     "name": "stdout",
     "output_type": "stream",
     "text": [
      "[[53.450001]\n",
      " [55.599998]\n",
      " [63.      ]\n",
      " [65.400002]\n",
      " [82.5     ]]\n",
      "(1227, 1)\n"
     ]
    }
   ],
   "source": [
    "#Use the Open Stock Price Column to Train Your Model\n",
    "training_set = dataset_train.iloc[:,1:2].values\n",
    "print(training_set[:5])\n",
    "print(training_set.shape)"
   ]
  },
  {
   "cell_type": "code",
   "execution_count": 15,
   "metadata": {},
   "outputs": [
    {
     "name": "stdout",
     "output_type": "stream",
     "text": [
      "[[0.45213454]\n",
      " [0.47994821]\n",
      " [0.57567915]\n",
      " [0.60672704]\n",
      " [0.82794305]]\n"
     ]
    }
   ],
   "source": [
    "#Normalizing the dataset\n",
    "from sklearn.preprocessing import MinMaxScaler\n",
    "\n",
    "scaler = MinMaxScaler(feature_range=(0,1))\n",
    "scaled_training_set = scaler.fit_transform(training_set)\n",
    "print(scaled_training_set[:5])"
   ]
  },
  {
   "cell_type": "code",
   "execution_count": 18,
   "metadata": {},
   "outputs": [
    {
     "name": "stdout",
     "output_type": "stream",
     "text": [
      "(1167, 60)\n",
      "(1167,)\n"
     ]
    }
   ],
   "source": [
    "#Creating X_train and y_train\n",
    "X_train = []\n",
    "y_train = []\n",
    "for i in range(60, 1227):\n",
    "    X_train.append(scaled_training_set[i-60:i,0])\n",
    "    y_train.append(scaled_training_set[i,0])\n",
    "X_train = np.array(X_train)\n",
    "y_train = np.array(y_train)\n",
    "\n",
    "print(X_train.shape)\n",
    "print(y_train.shape)"
   ]
  },
  {
   "cell_type": "code",
   "execution_count": 19,
   "metadata": {},
   "outputs": [
    {
     "name": "stdout",
     "output_type": "stream",
     "text": [
      "(1167, 60, 1)\n"
     ]
    }
   ],
   "source": [
    "#Reshape the data\n",
    "X_train = np.reshape(X_train,(X_train.shape[0],X_train.shape[1],1))\n",
    "print(X_train.shape)"
   ]
  },
  {
   "cell_type": "code",
   "execution_count": 20,
   "metadata": {},
   "outputs": [],
   "source": [
    "#Building the Model by Importing the Crucial Libraries and Adding Different Layers to LSTM\n",
    "from keras.models import Sequential\n",
    "from keras.layers import LSTM\n",
    "from keras.layers import Dense\n",
    "from keras.layers import Dropout\n",
    "\n",
    "regressor = Sequential()\n",
    "\n",
    "regressor.add(LSTM(units=50,return_sequences=True,input_shape = (X_train.shape[1],1)))\n",
    "regressor.add(Dropout(0.2))\n",
    "\n",
    "regressor.add(LSTM(units=50,return_sequences=True))\n",
    "regressor.add(Dropout(0.2))\n",
    "\n",
    "regressor.add(LSTM(units=50,return_sequences=True))\n",
    "regressor.add(Dropout(0.2))\n",
    "\n",
    "regressor.add(LSTM(units=50))\n",
    "regressor.add(Dropout(0.2))\n",
    "\n",
    "regressor.add(Dense(units=1))\n"
   ]
  },
  {
   "cell_type": "code",
   "execution_count": 21,
   "metadata": {},
   "outputs": [
    {
     "name": "stdout",
     "output_type": "stream",
     "text": [
      "Epoch 1/50\n",
      "37/37 [==============================] - 22s 229ms/step - loss: 0.0168\n",
      "Epoch 2/50\n",
      "37/37 [==============================] - 8s 226ms/step - loss: 0.0043\n",
      "Epoch 3/50\n",
      "37/37 [==============================] - 8s 219ms/step - loss: 0.0047\n",
      "Epoch 4/50\n",
      "37/37 [==============================] - 8s 214ms/step - loss: 0.0036\n",
      "Epoch 5/50\n",
      "37/37 [==============================] - 8s 211ms/step - loss: 0.0038\n",
      "Epoch 6/50\n",
      "37/37 [==============================] - 8s 209ms/step - loss: 0.0040\n",
      "Epoch 7/50\n",
      "37/37 [==============================] - 8s 204ms/step - loss: 0.0035\n",
      "Epoch 8/50\n",
      "37/37 [==============================] - 8s 205ms/step - loss: 0.0032\n",
      "Epoch 9/50\n",
      "37/37 [==============================] - 8s 211ms/step - loss: 0.0032\n",
      "Epoch 10/50\n",
      "37/37 [==============================] - 8s 212ms/step - loss: 0.0027\n",
      "Epoch 11/50\n",
      "37/37 [==============================] - 8s 214ms/step - loss: 0.0028\n",
      "Epoch 12/50\n",
      "37/37 [==============================] - 8s 228ms/step - loss: 0.0030\n",
      "Epoch 13/50\n",
      "37/37 [==============================] - 9s 232ms/step - loss: 0.0024\n",
      "Epoch 14/50\n",
      "37/37 [==============================] - 8s 208ms/step - loss: 0.0025\n",
      "Epoch 15/50\n",
      "37/37 [==============================] - 8s 205ms/step - loss: 0.0024\n",
      "Epoch 16/50\n",
      "37/37 [==============================] - 8s 204ms/step - loss: 0.0024\n",
      "Epoch 17/50\n",
      "37/37 [==============================] - 9s 237ms/step - loss: 0.0025\n",
      "Epoch 18/50\n",
      "37/37 [==============================] - 9s 241ms/step - loss: 0.0023\n",
      "Epoch 19/50\n",
      "37/37 [==============================] - 8s 222ms/step - loss: 0.0026\n",
      "Epoch 20/50\n",
      "37/37 [==============================] - 5s 130ms/step - loss: 0.0022\n",
      "Epoch 21/50\n",
      "37/37 [==============================] - 4s 120ms/step - loss: 0.0024\n",
      "Epoch 22/50\n",
      "37/37 [==============================] - 5s 123ms/step - loss: 0.0022\n",
      "Epoch 23/50\n",
      "37/37 [==============================] - 5s 135ms/step - loss: 0.0021\n",
      "Epoch 24/50\n",
      "37/37 [==============================] - 7s 180ms/step - loss: 0.0020\n",
      "Epoch 25/50\n",
      "37/37 [==============================] - 8s 214ms/step - loss: 0.0020\n",
      "Epoch 26/50\n",
      "37/37 [==============================] - 8s 216ms/step - loss: 0.0021\n",
      "Epoch 27/50\n",
      "37/37 [==============================] - 8s 209ms/step - loss: 0.0020\n",
      "Epoch 28/50\n",
      "37/37 [==============================] - 7s 200ms/step - loss: 0.0020\n",
      "Epoch 29/50\n",
      "37/37 [==============================] - 7s 194ms/step - loss: 0.0018\n",
      "Epoch 30/50\n",
      "37/37 [==============================] - 7s 202ms/step - loss: 0.0019\n",
      "Epoch 31/50\n",
      "37/37 [==============================] - 7s 202ms/step - loss: 0.0018\n",
      "Epoch 32/50\n",
      "37/37 [==============================] - 7s 197ms/step - loss: 0.0017\n",
      "Epoch 33/50\n",
      "37/37 [==============================] - 7s 196ms/step - loss: 0.0018\n",
      "Epoch 34/50\n",
      "37/37 [==============================] - 7s 196ms/step - loss: 0.0016\n",
      "Epoch 35/50\n",
      "37/37 [==============================] - 7s 197ms/step - loss: 0.0016\n",
      "Epoch 36/50\n",
      "37/37 [==============================] - 7s 197ms/step - loss: 0.0017\n",
      "Epoch 37/50\n",
      "37/37 [==============================] - 7s 197ms/step - loss: 0.0018\n",
      "Epoch 38/50\n",
      "37/37 [==============================] - 7s 201ms/step - loss: 0.0018\n",
      "Epoch 39/50\n",
      "37/37 [==============================] - 7s 197ms/step - loss: 0.0015\n",
      "Epoch 40/50\n",
      "37/37 [==============================] - 7s 201ms/step - loss: 0.0018\n",
      "Epoch 41/50\n",
      "37/37 [==============================] - 7s 197ms/step - loss: 0.0017\n",
      "Epoch 42/50\n",
      "37/37 [==============================] - 7s 192ms/step - loss: 0.0016\n",
      "Epoch 43/50\n",
      "37/37 [==============================] - 7s 192ms/step - loss: 0.0016\n",
      "Epoch 44/50\n",
      "37/37 [==============================] - 7s 197ms/step - loss: 0.0017\n",
      "Epoch 45/50\n",
      "37/37 [==============================] - 7s 200ms/step - loss: 0.0016\n",
      "Epoch 46/50\n",
      "37/37 [==============================] - 7s 198ms/step - loss: 0.0015\n",
      "Epoch 47/50\n",
      "37/37 [==============================] - 7s 193ms/step - loss: 0.0014\n",
      "Epoch 48/50\n",
      "37/37 [==============================] - 7s 187ms/step - loss: 0.0015\n",
      "Epoch 49/50\n",
      "37/37 [==============================] - 7s 188ms/step - loss: 0.0015\n",
      "Epoch 50/50\n",
      "37/37 [==============================] - 7s 189ms/step - loss: 0.0016\n"
     ]
    },
    {
     "data": {
      "text/plain": [
       "<keras.callbacks.History at 0x1858d6a78e0>"
      ]
     },
     "execution_count": 21,
     "metadata": {},
     "output_type": "execute_result"
    }
   ],
   "source": [
    "#fitting the model\n",
    "regressor.compile(optimizer = 'adam', loss = 'mean_squared_error')\n",
    "regressor.fit(X_train,y_train,epochs = 50, batch_size=32)"
   ]
  },
  {
   "cell_type": "code",
   "execution_count": 22,
   "metadata": {},
   "outputs": [
    {
     "name": "stdout",
     "output_type": "stream",
     "text": [
      "(20, 7)\n",
      "         Date       Open       High        Low      Close  Adj Close   Volume\n",
      "0  2017-01-02  35.500000  36.450001  34.900002  36.150002  31.849495   394163\n",
      "1  2017-01-03  35.950001  36.400002  35.599998  35.900002  31.629238   217757\n",
      "2  2017-01-04  36.250000  38.400002  36.000000  38.049999  33.523468  2113440\n",
      "3  2017-01-05  38.250000  39.650002  37.450001  38.950001  34.316399  2332403\n",
      "4  2017-01-06  38.900002  40.400002  37.599998  40.049999  35.285538  2472387\n",
      "[[35.5     ]\n",
      " [35.950001]\n",
      " [36.25    ]\n",
      " [38.25    ]\n",
      " [38.900002]\n",
      " [40.      ]\n",
      " [42.950001]\n",
      " [43.5     ]\n",
      " [43.150002]\n",
      " [43.900002]\n",
      " [44.400002]\n",
      " [47.349998]\n",
      " [47.      ]\n",
      " [46.200001]\n",
      " [45.900002]\n",
      " [43.75    ]\n",
      " [44.400002]\n",
      " [45.700001]\n",
      " [46.950001]\n",
      " [47.650002]]\n"
     ]
    }
   ],
   "source": [
    "#Extracting the Actual Stock Prices\n",
    "\n",
    "dataset_test = pd.read_csv(\"NFL.NS (2).csv\")\n",
    "actual_stock_price = dataset_test.iloc[:,1:2].values\n",
    "\n",
    "print(dataset_test.shape)\n",
    "\n",
    "print(dataset_test[:5])\n",
    "print(actual_stock_price)"
   ]
  },
  {
   "cell_type": "code",
   "execution_count": 27,
   "metadata": {},
   "outputs": [
    {
     "name": "stdout",
     "output_type": "stream",
     "text": [
      "(80,)\n",
      "[[33.200001]\n",
      " [33.299999]\n",
      " [33.650002]\n",
      " [33.400002]\n",
      " [33.25    ]\n",
      " [33.950001]\n",
      " [33.900002]\n",
      " [33.049999]\n",
      " [32.700001]\n",
      " [33.349998]\n",
      " [33.849998]\n",
      " [36.599998]\n",
      " [34.450001]\n",
      " [33.75    ]\n",
      " [34.349998]\n",
      " [35.5     ]\n",
      " [35.099998]\n",
      " [35.150002]\n",
      " [35.599998]\n",
      " [35.200001]\n",
      " [35.200001]\n",
      " [35.400002]\n",
      " [34.349998]\n",
      " [34.650002]\n",
      " [33.400002]\n",
      " [33.75    ]\n",
      " [33.700001]\n",
      " [34.25    ]\n",
      " [32.650002]\n",
      " [32.049999]\n",
      " [31.6     ]\n",
      " [31.1     ]\n",
      " [30.4     ]\n",
      " [29.85    ]\n",
      " [29.9     ]\n",
      " [30.5     ]\n",
      " [30.9     ]\n",
      " [32.400002]\n",
      " [33.      ]\n",
      " [33.400002]\n",
      " [32.599998]\n",
      " [33.200001]\n",
      " [33.200001]\n",
      " [32.849998]\n",
      " [37.549999]\n",
      " [36.849998]\n",
      " [35.200001]\n",
      " [34.400002]\n",
      " [35.349998]\n",
      " [34.349998]\n",
      " [35.150002]\n",
      " [33.799999]\n",
      " [34.549999]\n",
      " [34.150002]\n",
      " [34.25    ]\n",
      " [34.049999]\n",
      " [35.099998]\n",
      " [34.      ]\n",
      " [34.200001]\n",
      " [34.099998]\n",
      " [35.5     ]\n",
      " [35.950001]\n",
      " [36.25    ]\n",
      " [38.25    ]\n",
      " [38.900002]\n",
      " [40.      ]\n",
      " [42.950001]\n",
      " [43.5     ]\n",
      " [43.150002]\n",
      " [43.900002]\n",
      " [44.400002]\n",
      " [47.349998]\n",
      " [47.      ]\n",
      " [46.200001]\n",
      " [45.900002]\n",
      " [43.75    ]\n",
      " [44.400002]\n",
      " [45.700001]\n",
      " [46.950001]\n",
      " [47.650002]]\n"
     ]
    },
    {
     "name": "stderr",
     "output_type": "stream",
     "text": [
      "C:\\Users\\harsh\\AppData\\Local\\Temp\\ipykernel_18788\\3652376527.py:3: FutureWarning: The behavior of `series[i:j]` with an integer-dtype index is deprecated. In a future version, this will be treated as *label-based* indexing, consistent with e.g. `series[i]` lookups. To retain the old behavior, use `series.iloc[i:j]`. To get the future behavior, use `series.loc[i:j]`.\n",
      "  inputs = dataset_total[len(dataset_total)-len(dataset_test)-60:].values\n"
     ]
    }
   ],
   "source": [
    "#Preparing the Input for the Model.\n",
    "dataset_total = pd.concat((dataset_train['Open'], dataset_test['Open']), axis = 0)\n",
    "inputs = dataset_total[len(dataset_total)-len(dataset_test)-60:].values\n",
    "\n",
    "# print(dataset_total.shape)\n",
    "print(inputs.shape)\n",
    "# print(actual_stock_price)\n",
    "\n",
    "inputs = inputs.reshape(-1,1)\n",
    "# print(inputs)\n",
    "inputs = scaler.transform(inputs)\n",
    "\n",
    "#print(inputs)\n"
   ]
  },
  {
   "cell_type": "code",
   "execution_count": 30,
   "metadata": {},
   "outputs": [
    {
     "name": "stdout",
     "output_type": "stream",
     "text": [
      "(20, 60, 1)\n"
     ]
    }
   ],
   "source": [
    "X_test = []\n",
    "for i in range(60,80):\n",
    "    X_test.append(inputs[i-60:i,0])\n",
    "X_test = np.array(X_test)\n",
    "X_test = np.reshape(X_test,(X_test.shape[0],X_test.shape[1],1))\n",
    "print(X_test.shape)\n",
    "\n"
   ]
  },
  {
   "cell_type": "code",
   "execution_count": 31,
   "metadata": {},
   "outputs": [
    {
     "name": "stdout",
     "output_type": "stream",
     "text": [
      "1/1 [==============================] - 2s 2s/step\n"
     ]
    }
   ],
   "source": [
    "predicted_stock_price = regressor.predict(X_test)\n",
    "predicted_stock_price = scaler.inverse_transform(predicted_stock_price)"
   ]
  },
  {
   "cell_type": "code",
   "execution_count": 33,
   "metadata": {},
   "outputs": [
    {
     "data": {
      "text/plain": [
       "<matplotlib.legend.Legend at 0x1859adb2bb0>"
      ]
     },
     "execution_count": 33,
     "metadata": {},
     "output_type": "execute_result"
    },
    {
     "data": {
      "image/png": "[encoded data removed]",
      "text/plain": [
       "<Figure size 432x288 with 1 Axes>"
      ]
     },
     "metadata": {
      "needs_background": "light"
     },
     "output_type": "display_data"
    }
   ],
   "source": [
    "plt.plot(actual_stock_price, color = 'red',label='actual_stock_price')\n",
    "plt.plot(predicted_stock_price, color = 'blue',label='predicted_stock_price')\n",
    "plt.title('ML')\n",
    "plt.xlabel('Time')\n",
    "plt.ylabel('Price')\n",
    "plt.legend()"
   ]
  }
 ],
 "metadata": {
  "kernelspec": {
   "display_name": "Python 3",
   "language": "python",
   "name": "python3"
  },
  "language_info": {
   "codemirror_mode": {
    "name": "ipython",
    "version": 3
   },
   "file_extension": ".py",
   "mimetype": "text/x-python",
   "name": "python",
   "nbconvert_exporter": "python",
   "pygments_lexer": "ipython3",
   "version": "3.9.7"
  },
  "orig_nbformat": 4
 },
 "nbformat": 4,
 "nbformat_minor": 2
}
